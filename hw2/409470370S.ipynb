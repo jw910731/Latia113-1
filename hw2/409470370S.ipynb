{
 "cells": [
  {
   "cell_type": "markdown",
   "metadata": {},
   "source": [
    "# HW2\n",
    "40947030S 吳文元 資工系 113"
   ]
  },
  {
   "cell_type": "code",
   "execution_count": null,
   "metadata": {},
   "outputs": [
    {
     "ename": "",
     "evalue": "",
     "output_type": "error",
     "traceback": [
      "\u001b[1;31m執行具有 'venv (Python 3.11.8)' 的儲存格需要 ipykernel 套件。\n",
      "\u001b[1;31m執行下列命令以將 'ipykernel' 安裝到 Python 環境中。\n",
      "\u001b[1;31m命令: '/Users/jw910731/course/LearningAnalytic/hw2/.devenv/state/venv/bin/python -m pip install ipykernel -U --force-reinstall'"
     ]
    }
   ],
   "source": [
    "import pandas as pd\n",
    "import statsmodels.api as sm\n",
    "import numpy as np\n",
    "from sklearn.ensemble import RandomForestRegressor\n",
    "from sklearn.model_selection import train_test_split\n",
    "from sklearn.metrics import mean_squared_error"
   ]
  },
  {
   "cell_type": "code",
   "execution_count": null,
   "metadata": {},
   "outputs": [],
   "source": [
    "df2 = pd.DataFrame(np.random.randn(100,4),columns=list(\"ABCD\"))"
   ]
  },
  {
   "cell_type": "code",
   "execution_count": null,
   "metadata": {},
   "outputs": [],
   "source": [
    "x = df2[\"A\"]\n",
    "y = df2[\"B\"]\n",
    "#add a constant for the model (for the intercept term)\n",
    "x = sm.add_constant(x)\n",
    "x"
   ]
  },
  {
   "cell_type": "code",
   "execution_count": null,
   "metadata": {},
   "outputs": [],
   "source": [
    "#fit the regression model\n",
    "model = sm.OLS(y,x).fit()\n",
    "print(model.summary())"
   ]
  },
  {
   "cell_type": "markdown",
   "metadata": {},
   "source": [
    "作業一"
   ]
  },
  {
   "cell_type": "code",
   "execution_count": null,
   "metadata": {},
   "outputs": [],
   "source": [
    "import pandas as pd\n",
    "import statsmodels.api as sm\n",
    "import numpy as np\n",
    "\n",
    "# Create a sample DataFrame\n",
    "df2 = pd.DataFrame(np.random.randn(100, 4), columns=list(\"ABCD\"))\n",
    "\n",
    "# Define the dependent variable\n",
    "y = df2['B']\n",
    "\n",
    "# Define the independent variables (multiple predictors)\n",
    "X = df2.iloc[:, [0, 2]]  # Use columns A and C as predictors\n",
    "\n",
    "# Add a constant to the model (for the intercept term)\n",
    "X = sm.add_constant(X)\n",
    "\n",
    "# Fit the regression model\n",
    "model = sm.OLS(y, X).fit()\n",
    "\n",
    "# Display the regression results\n",
    "print(model.summary())\n"
   ]
  },
  {
   "cell_type": "code",
   "execution_count": null,
   "metadata": {},
   "outputs": [],
   "source": [
    "df = pd.read_csv('A_stat_data_112.csv')\n",
    " # 假設要預測'correct_rate' 並使用其他數值型變量作為特徵\n",
    "df = df.dropna(subset=['correct_rate']) # 去除 'correct_rate' 為 NaN 的行\n",
    "X = df[['grade', 'is_completed', 'answer_duration_sec']] # 例選三個特徵\n",
    "y = df['correct_rate']\n",
    " # 分割訓練集和測試集\n",
    "X_train, X_test, y_train, y_test = train_test_split(X, y, test_size=0.2, random_state=42)\n",
    " # 訓練隨機森林回歸模型\n",
    "rf_model = RandomForestRegressor(n_estimators=100, random_state=42)\n",
    "rf_model.fit(X_train, y_train)\n",
    " # 預測及評估\n",
    "y_pred = rf_model.predict(X_test)\n",
    "print(\"均方誤差(MSE):\", mean_squared_error(y_test, y_pred))\n",
    "# 將特徵重要性與特徵名稱對應起來\n",
    "feature_importance = pd.DataFrame({\n",
    " 'Feature': X.columns,\n",
    " 'Importance': rf_model.feature_importances_\n",
    " })\n",
    " # 顯示特徵重要性\n",
    "print(feature_importance)\n",
    "#R2\n",
    "from sklearn.metrics import r2_score\n",
    "r2 = r2_score(y_test, y_pred)\n",
    "print(\"R^2:\", r2)"
   ]
  }
 ],
 "metadata": {
  "kernelspec": {
   "display_name": "venv",
   "language": "python",
   "name": "python3"
  },
  "language_info": {
   "codemirror_mode": {
    "name": "ipython",
    "version": 3
   },
   "file_extension": ".py",
   "mimetype": "text/x-python",
   "name": "python",
   "nbconvert_exporter": "python",
   "pygments_lexer": "ipython3",
   "version": "3.11.8"
  }
 },
 "nbformat": 4,
 "nbformat_minor": 2
}
